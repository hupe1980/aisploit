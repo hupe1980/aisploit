{
 "cells": [
  {
   "cell_type": "code",
   "execution_count": 1,
   "metadata": {},
   "outputs": [],
   "source": [
    "from aisploit.scanner import ScannerJob\n",
    "from aisploit.target import StdOutTarget"
   ]
  },
  {
   "cell_type": "code",
   "execution_count": 2,
   "metadata": {},
   "outputs": [
    {
     "name": "stdout",
     "output_type": "stream",
     "text": [
      "todo\n",
      "test\n",
      "foo\n",
      "bar\n"
     ]
    }
   ],
   "source": [
    "job = ScannerJob(\n",
    "    target=StdOutTarget(),\n",
    ")\n",
    "\n",
    "job.execute()"
   ]
  }
 ],
 "metadata": {
  "kernelspec": {
   "display_name": "aisploit-MWVof28N-py3.12",
   "language": "python",
   "name": "python3"
  },
  "language_info": {
   "codemirror_mode": {
    "name": "ipython",
    "version": 3
   },
   "file_extension": ".py",
   "mimetype": "text/x-python",
   "name": "python",
   "nbconvert_exporter": "python",
   "pygments_lexer": "ipython3",
   "version": "3.12.2"
  }
 },
 "nbformat": 4,
 "nbformat_minor": 2
}
