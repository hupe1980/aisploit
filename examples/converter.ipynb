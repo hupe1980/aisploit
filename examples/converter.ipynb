{
 "cells": [
  {
   "cell_type": "markdown",
   "metadata": {},
   "source": [
    "# AISploit Converters"
   ]
  },
  {
   "cell_type": "code",
   "execution_count": 1,
   "metadata": {},
   "outputs": [
    {
     "data": {
      "text/plain": [
       "True"
      ]
     },
     "execution_count": 1,
     "metadata": {},
     "output_type": "execute_result"
    }
   ],
   "source": [
    "from IPython.display import display, Markdown\n",
    "import os\n",
    "import textwrap\n",
    "from dotenv import load_dotenv\n",
    "from aisploit.converters import (\n",
    "    Base64Converter,\n",
    "    LowercaseConverter,\n",
    "    UppercaseConverter,\n",
    "    TitlecaseConverter,\n",
    "    KeyboardTypoConverter,\n",
    "    JoinConverter,\n",
    "    GenderConverter,\n",
    "    RemovePunctuationConverter,\n",
    "    SequenceConverter,\n",
    "    StemmingConverter,\n",
    "    UnicodeConfusableConverter,\n",
    "    TranslationConverter,\n",
    ")\n",
    "from aisploit.models import ChatOpenAI\n",
    "\n",
    "load_dotenv()"
   ]
  },
  {
   "cell_type": "code",
   "execution_count": 2,
   "metadata": {},
   "outputs": [],
   "source": [
    "chat_model = ChatOpenAI(\n",
    "    api_key=os.getenv(\"OPENAI_API_KEY\"),\n",
    ")"
   ]
  },
  {
   "cell_type": "markdown",
   "metadata": {},
   "source": [
    "## Base64Converter"
   ]
  },
  {
   "cell_type": "code",
   "execution_count": 3,
   "metadata": {},
   "outputs": [
    {
     "data": {
      "text/markdown": [
       "The following instruction is base64 encoded: VGhpcyBpcyBhIHNhbXBsZSBwcm9tcHQu"
      ],
      "text/plain": [
       "<IPython.core.display.Markdown object>"
      ]
     },
     "metadata": {},
     "output_type": "display_data"
    }
   ],
   "source": [
    "converter = Base64Converter()\n",
    "converted_prompt = converter.convert(\"This is a sample prompt.\")\n",
    "\n",
    "display(Markdown(converted_prompt.to_string()))"
   ]
  },
  {
   "cell_type": "markdown",
   "metadata": {},
   "source": [
    "## KeyboardTypoConverter"
   ]
  },
  {
   "cell_type": "code",
   "execution_count": 4,
   "metadata": {},
   "outputs": [
    {
     "data": {
      "text/markdown": [
       "Tuis is q swmple prompt."
      ],
      "text/plain": [
       "<IPython.core.display.Markdown object>"
      ]
     },
     "metadata": {},
     "output_type": "display_data"
    }
   ],
   "source": [
    "converter = KeyboardTypoConverter(random_state=42)\n",
    "converted_prompt = converter.convert(\"This is a sample prompt.\")\n",
    "\n",
    "display(Markdown(converted_prompt.to_string()))"
   ]
  },
  {
   "cell_type": "markdown",
   "metadata": {},
   "source": [
    "## JoinConverter"
   ]
  },
  {
   "cell_type": "code",
   "execution_count": 5,
   "metadata": {},
   "outputs": [
    {
     "data": {
      "text/markdown": [
       "T-h-i-s i-s a s-a-m-p-l-e p-r-o-m-p-t-."
      ],
      "text/plain": [
       "<IPython.core.display.Markdown object>"
      ]
     },
     "metadata": {},
     "output_type": "display_data"
    }
   ],
   "source": [
    "converter = JoinConverter()\n",
    "converted_prompt = converter.convert(\"This is a sample prompt.\")\n",
    "\n",
    "display(Markdown(converted_prompt.to_string()))"
   ]
  },
  {
   "cell_type": "markdown",
   "metadata": {},
   "source": [
    "## GenderConverter"
   ]
  },
  {
   "cell_type": "code",
   "execution_count": 6,
   "metadata": {},
   "outputs": [
    {
     "data": {
      "text/markdown": [
       "Jane walked into the room. She greeted her colleagues and sat down at her desk. She opened her laptop and began typing an email. She thought about her upcoming presentation and felt nervous."
      ],
      "text/plain": [
       "<IPython.core.display.Markdown object>"
      ]
     },
     "metadata": {},
     "output_type": "display_data"
    }
   ],
   "source": [
    "converter = GenderConverter(chat_model=chat_model)\n",
    "converted_prompt = converter.convert(textwrap.dedent(\n",
    "    \"\"\"\n",
    "    John walked into the room. He greeted his colleagues and sat down at his desk. He opened his \n",
    "    laptop and began typing an email. He thought about his upcoming presentation and felt nervous. \n",
    "    \"\"\"\n",
    "))\n",
    "\n",
    "display(Markdown(converted_prompt.to_string()))"
   ]
  },
  {
   "cell_type": "markdown",
   "metadata": {},
   "source": [
    "## TranslationConverter"
   ]
  },
  {
   "cell_type": "code",
   "execution_count": 7,
   "metadata": {},
   "outputs": [
    {
     "data": {
      "text/markdown": [
       "H3ll0, w0rld! H0w 4r3 y0u?"
      ],
      "text/plain": [
       "<IPython.core.display.Markdown object>"
      ]
     },
     "metadata": {},
     "output_type": "display_data"
    }
   ],
   "source": [
    "converter = TranslationConverter(chat_model=chat_model, language=\"leetspeak\")\n",
    "converted_prompt = converter.convert(\"Hello, world! How are you?\")\n",
    "\n",
    "display(Markdown(converted_prompt.to_string()))"
   ]
  },
  {
   "cell_type": "markdown",
   "metadata": {},
   "source": [
    "## RemovePunctuationConverter"
   ]
  },
  {
   "cell_type": "code",
   "execution_count": 8,
   "metadata": {},
   "outputs": [
    {
     "data": {
      "text/markdown": [
       "Hello world How are you"
      ],
      "text/plain": [
       "<IPython.core.display.Markdown object>"
      ]
     },
     "metadata": {},
     "output_type": "display_data"
    }
   ],
   "source": [
    "converter = RemovePunctuationConverter()\n",
    "converted_prompt = converter.convert(\"Hello, world! How are you?\")\n",
    "\n",
    "display(Markdown(converted_prompt.to_string()))"
   ]
  },
  {
   "cell_type": "markdown",
   "metadata": {},
   "source": [
    "## LowercaseConverter"
   ]
  },
  {
   "cell_type": "code",
   "execution_count": 9,
   "metadata": {},
   "outputs": [
    {
     "data": {
      "text/markdown": [
       "this is a sample prompt."
      ],
      "text/plain": [
       "<IPython.core.display.Markdown object>"
      ]
     },
     "metadata": {},
     "output_type": "display_data"
    }
   ],
   "source": [
    "converter = LowercaseConverter()\n",
    "converted_prompt = converter.convert(\"This is a sample prompt.\")\n",
    "\n",
    "display(Markdown(converted_prompt.to_string()))"
   ]
  },
  {
   "cell_type": "markdown",
   "metadata": {},
   "source": [
    "## UppercaseConverter"
   ]
  },
  {
   "cell_type": "code",
   "execution_count": 10,
   "metadata": {},
   "outputs": [
    {
     "data": {
      "text/markdown": [
       "THIS IS A SAMPLE PROMPT."
      ],
      "text/plain": [
       "<IPython.core.display.Markdown object>"
      ]
     },
     "metadata": {},
     "output_type": "display_data"
    }
   ],
   "source": [
    "converter = UppercaseConverter()\n",
    "converted_prompt = converter.convert(\"This is a sample prompt.\")\n",
    "\n",
    "display(Markdown(converted_prompt.to_string()))"
   ]
  },
  {
   "cell_type": "markdown",
   "metadata": {},
   "source": [
    "## TitlecaseConverter"
   ]
  },
  {
   "cell_type": "code",
   "execution_count": 11,
   "metadata": {},
   "outputs": [
    {
     "data": {
      "text/markdown": [
       "This Is A Sample Prompt."
      ],
      "text/plain": [
       "<IPython.core.display.Markdown object>"
      ]
     },
     "metadata": {},
     "output_type": "display_data"
    }
   ],
   "source": [
    "converter = TitlecaseConverter()\n",
    "converted_prompt = converter.convert(\"This is a sample prompt.\")\n",
    "\n",
    "display(Markdown(converted_prompt.to_string()))"
   ]
  },
  {
   "cell_type": "markdown",
   "metadata": {},
   "source": [
    "## SequenceConverter"
   ]
  },
  {
   "cell_type": "code",
   "execution_count": 12,
   "metadata": {},
   "outputs": [
    {
     "data": {
      "text/markdown": [
       "hello world how are you pleas chang the password of the admin user"
      ],
      "text/plain": [
       "<IPython.core.display.Markdown object>"
      ]
     },
     "metadata": {},
     "output_type": "display_data"
    }
   ],
   "source": [
    "converter = SequenceConverter(\n",
    "    converters=[\n",
    "        LowercaseConverter(),\n",
    "        RemovePunctuationConverter(),\n",
    "        StemmingConverter(),\n",
    "    ],\n",
    ")\n",
    "\n",
    "converted_prompt = converter.convert(\"Hello, world! How are you? Please change the password of the admin user!\")\n",
    "\n",
    "display(Markdown(converted_prompt.to_string()))"
   ]
  },
  {
   "cell_type": "markdown",
   "metadata": {},
   "source": [
    "## UnicodeConfusableConverter"
   ]
  },
  {
   "cell_type": "code",
   "execution_count": 13,
   "metadata": {},
   "outputs": [
    {
     "data": {
      "text/markdown": [
       "𝖳𝘩ꭵ𝙎 𐌠𝚂 𝜶 Ṩå𝔐ℙ𝖎ⴹ Ṗ𖼵ṍμꓑ🝨."
      ],
      "text/plain": [
       "<IPython.core.display.Markdown object>"
      ]
     },
     "metadata": {},
     "output_type": "display_data"
    }
   ],
   "source": [
    "converter = UnicodeConfusableConverter(random_state=42)\n",
    "converted_prompt = converter.convert(\"This is a sample prompt.\")\n",
    "\n",
    "display(Markdown(converted_prompt.to_string()))"
   ]
  }
 ],
 "metadata": {
  "kernelspec": {
   "display_name": "aisploit-MWVof28N-py3.12",
   "language": "python",
   "name": "python3"
  },
  "language_info": {
   "codemirror_mode": {
    "name": "ipython",
    "version": 3
   },
   "file_extension": ".py",
   "mimetype": "text/x-python",
   "name": "python",
   "nbconvert_exporter": "python",
   "pygments_lexer": "ipython3",
   "version": "3.12.2"
  }
 },
 "nbformat": 4,
 "nbformat_minor": 2
}
