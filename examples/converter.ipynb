{
 "cells": [
  {
   "cell_type": "markdown",
   "metadata": {},
   "source": [
    "# AISploit Converters"
   ]
  },
  {
   "cell_type": "code",
   "execution_count": 1,
   "metadata": {},
   "outputs": [
    {
     "data": {
      "text/plain": [
       "True"
      ]
     },
     "execution_count": 1,
     "metadata": {},
     "output_type": "execute_result"
    }
   ],
   "source": [
    "from IPython.display import display, Markdown\n",
    "import os\n",
    "import textwrap\n",
    "from dotenv import load_dotenv\n",
    "from aisploit.converter import Base64Converter, KeyboardTypoConverter, JoinConverter, GenderConverter\n",
    "from aisploit.model import ChatOpenAI\n",
    "\n",
    "load_dotenv()"
   ]
  },
  {
   "cell_type": "code",
   "execution_count": 2,
   "metadata": {},
   "outputs": [],
   "source": [
    "chat_model = ChatOpenAI(\n",
    "    api_key=os.getenv(\"OPENAI_API_KEY\"),\n",
    ")"
   ]
  },
  {
   "cell_type": "markdown",
   "metadata": {},
   "source": [
    "## Base64Converter"
   ]
  },
  {
   "cell_type": "code",
   "execution_count": 3,
   "metadata": {},
   "outputs": [
    {
     "data": {
      "text/markdown": [
       "VGhpcyBpcyBhIHNhbXBsZSBwcm9tcHQu"
      ],
      "text/plain": [
       "<IPython.core.display.Markdown object>"
      ]
     },
     "metadata": {},
     "output_type": "display_data"
    }
   ],
   "source": [
    "converter = Base64Converter()\n",
    "converted_prompt = converter.convert(\"This is a sample prompt.\")\n",
    "\n",
    "display(Markdown(converted_prompt.to_string()))"
   ]
  },
  {
   "cell_type": "markdown",
   "metadata": {},
   "source": [
    "## KeyboardTypoConverter"
   ]
  },
  {
   "cell_type": "code",
   "execution_count": 4,
   "metadata": {},
   "outputs": [
    {
     "data": {
      "text/markdown": [
       "Tuis is q swmple prompt."
      ],
      "text/plain": [
       "<IPython.core.display.Markdown object>"
      ]
     },
     "metadata": {},
     "output_type": "display_data"
    }
   ],
   "source": [
    "converter = KeyboardTypoConverter(random_state=42)\n",
    "converted_prompt = converter.convert(\"This is a sample prompt.\")\n",
    "\n",
    "display(Markdown(converted_prompt.to_string()))"
   ]
  },
  {
   "cell_type": "markdown",
   "metadata": {},
   "source": [
    "## JoinConverter"
   ]
  },
  {
   "cell_type": "code",
   "execution_count": 5,
   "metadata": {},
   "outputs": [
    {
     "data": {
      "text/markdown": [
       "T-h-i-s i-s a s-a-m-p-l-e p-r-o-m-p-t-."
      ],
      "text/plain": [
       "<IPython.core.display.Markdown object>"
      ]
     },
     "metadata": {},
     "output_type": "display_data"
    }
   ],
   "source": [
    "converter = JoinConverter()\n",
    "converted_prompt = converter.convert(\"This is a sample prompt.\")\n",
    "\n",
    "display(Markdown(converted_prompt.to_string()))"
   ]
  },
  {
   "cell_type": "markdown",
   "metadata": {},
   "source": [
    "## GenderConverter"
   ]
  },
  {
   "cell_type": "code",
   "execution_count": 6,
   "metadata": {},
   "outputs": [
    {
     "data": {
      "text/markdown": [
       "Jane walked into the room. She greeted her colleagues and sat down at her desk. She opened her \n",
       "laptop and began typing an email. She thought about her upcoming presentation and felt nervous."
      ],
      "text/plain": [
       "<IPython.core.display.Markdown object>"
      ]
     },
     "metadata": {},
     "output_type": "display_data"
    }
   ],
   "source": [
    "converter = GenderConverter(chat_model=chat_model)\n",
    "converted_prompt = converter.convert(textwrap.dedent(\n",
    "    \"\"\"\n",
    "    John walked into the room. He greeted his colleagues and sat down at his desk. He opened his \n",
    "    laptop and began typing an email. He thought about his upcoming presentation and felt nervous. \n",
    "    \"\"\"\n",
    "))\n",
    "\n",
    "display(Markdown(converted_prompt.to_string()))"
   ]
  }
 ],
 "metadata": {
  "kernelspec": {
   "display_name": "aisploit-MWVof28N-py3.12",
   "language": "python",
   "name": "python3"
  },
  "language_info": {
   "codemirror_mode": {
    "name": "ipython",
    "version": 3
   },
   "file_extension": ".py",
   "mimetype": "text/x-python",
   "name": "python",
   "nbconvert_exporter": "python",
   "pygments_lexer": "ipython3",
   "version": "3.12.2"
  }
 },
 "nbformat": 4,
 "nbformat_minor": 2
}
