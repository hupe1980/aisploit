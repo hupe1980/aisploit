{
 "cells": [
  {
   "cell_type": "code",
   "execution_count": 1,
   "metadata": {},
   "outputs": [
    {
     "data": {
      "text/plain": [
       "True"
      ]
     },
     "execution_count": 1,
     "metadata": {},
     "output_type": "execute_result"
    }
   ],
   "source": [
    "from dotenv import load_dotenv\n",
    "from langchain_core.prompt_values import StringPromptValue\n",
    "from aisploit.targets import EmailTarget, EmailSender, EmailReceiver, UserPasswordAuth, ImageTarget\n",
    "\n",
    "load_dotenv()"
   ]
  },
  {
   "cell_type": "code",
   "execution_count": 11,
   "metadata": {},
   "outputs": [
    {
     "name": "stdout",
     "output_type": "stream",
     "text": [
      "ImagesResponse(created=1713017874, data=[Image(b64_json=None, revised_prompt=None, url='https://oaidalleapiprodscus.blob.core.windows.net/private/org-hQ7KRgz5Vomr6fPJrIUS789k/user-WXtTIx0ozo4TqkMvP9AIJA6F/img-fafNNMlevTN7xp9Ug5tBYfaE.png?st=2024-04-13T13%3A17%3A54Z&se=2024-04-13T15%3A17%3A54Z&sp=r&sv=2021-08-06&sr=b&rscd=inline&rsct=image/png&skoid=6aaadede-4fb3-4698-a8f6-684d7786b067&sktid=a48cca56-e6da-484e-a814-9c849652bcb3&skt=2024-04-13T07%3A52%3A32Z&ske=2024-04-14T07%3A52%3A32Z&sks=b&skv=2021-08-06&sig=DddNxDK5NTNRaXKDIjfgFvQ/RHdJpRNM/gwjAL9BWTs%3D')])\n"
     ]
    },
    {
     "data": {
      "text/plain": [
       "content=''"
      ]
     },
     "execution_count": 11,
     "metadata": {},
     "output_type": "execute_result"
    }
   ],
   "source": [
    "target = ImageTarget()\n",
    "target.send_prompt(StringPromptValue(text=\"Create a photo of bibo the big yellow bird of the sesame street drinking a bottle of wine\"))"
   ]
  },
  {
   "cell_type": "code",
   "execution_count": null,
   "metadata": {},
   "outputs": [],
   "source": [
    "auth = UserPasswordAuth(user=\"xxx@gmail.com\", password=\"*********\")\n",
    "\n",
    "target = EmailTarget(\n",
    "    sender=EmailSender(host=\"smtp.gmail.com\", auth=auth),\n",
    "    receiver=EmailReceiver(host=\"imap.gmail.com\", auth=auth),\n",
    "    subject=\"AISploit\",\n",
    "    from_addr=\"xxx@gmail.com\",\n",
    "    to_addr=\"zzz@gmail.com\",\n",
    ")\n",
    "\n",
    "# target.send_prompt(StringPromptValue(text=\"\"))"
   ]
  }
 ],
 "metadata": {
  "kernelspec": {
   "display_name": "aisploit-MWVof28N-py3.12",
   "language": "python",
   "name": "python3"
  },
  "language_info": {
   "codemirror_mode": {
    "name": "ipython",
    "version": 3
   },
   "file_extension": ".py",
   "mimetype": "text/x-python",
   "name": "python",
   "nbconvert_exporter": "python",
   "pygments_lexer": "ipython3",
   "version": "3.12.2"
  }
 },
 "nbformat": 4,
 "nbformat_minor": 2
}
