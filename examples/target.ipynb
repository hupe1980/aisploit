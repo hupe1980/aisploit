{
 "cells": [
  {
   "cell_type": "code",
   "execution_count": null,
   "metadata": {},
   "outputs": [],
   "source": [
    "from langchain_core.prompt_values import StringPromptValue\n",
    "from aisploit.target import EmailTarget, EmailSender, EmailReceiver, UserPasswordAuth"
   ]
  },
  {
   "cell_type": "code",
   "execution_count": null,
   "metadata": {},
   "outputs": [],
   "source": [
    "auth = UserPasswordAuth(user=\"xxx@gmail.com\", password=\"*********\")\n",
    "\n",
    "target = EmailTarget(\n",
    "    sender=EmailSender(host=\"smtp.gmail.com\", auth=auth),\n",
    "    receiver=EmailReceiver(host=\"imap.gmail.com\", auth=auth),\n",
    "    subject=\"AISploit\",\n",
    "    from_addr=\"xxx1980@gmail.com\",\n",
    "    to_addr=\"zzz@gmail.com\",\n",
    ")\n",
    "\n",
    "# target.send_prompt(StringPromptValue(text=\"\"))"
   ]
  }
 ],
 "metadata": {
  "kernelspec": {
   "display_name": "aisploit-MWVof28N-py3.12",
   "language": "python",
   "name": "python3"
  },
  "language_info": {
   "codemirror_mode": {
    "name": "ipython",
    "version": 3
   },
   "file_extension": ".py",
   "mimetype": "text/x-python",
   "name": "python",
   "nbconvert_exporter": "python",
   "pygments_lexer": "ipython3",
   "version": "3.12.2"
  }
 },
 "nbformat": 4,
 "nbformat_minor": 2
}
